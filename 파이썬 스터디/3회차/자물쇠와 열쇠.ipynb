{
 "cells": [
  {
   "cell_type": "code",
   "execution_count": 5,
   "metadata": {},
   "outputs": [],
   "source": [
    "def rotate(lock,a):\n",
    "\tN = len(lock)\n",
    "\tneed = []\n",
    "\timin = 21\n",
    "\tjmin = 21\n",
    "\n",
    "\tfor i in range(N):\n",
    "\t\tfor j in range(N):\n",
    "\t\t\tif lock[i][j] == a:\n",
    "\t\t\t\tneed.append([i, j])\n",
    "\t\t\t\timin = min(imin, i)\n",
    "\t\t\t\tjmin = min(jmin, j)\n",
    "\n",
    "\timax, jmax = -1, -1\n",
    "\tnew_need = []\n",
    "\n",
    "\tfor i, j in need:\n",
    "\t\tnew_need.append([i - imin, j - jmin])\n",
    "\t\timax = max(imax, i)\n",
    "\t\tjmax = max(jmax, j)\n",
    "\n",
    "\ts = max(imax, jmax) + 1\n",
    "\n",
    "\tlockcan = []\n",
    "\n",
    "\tlockcan.append(new_need)\n",
    "\n",
    "\t# 180도 회전\n",
    "\tnew_lock = []\n",
    "\tfor x, y in new_need:\n",
    "\t\tnew_lock.append([s - 1 - x, s - 1 - y])\n",
    "\tlockcan.append(new_lock)\n",
    "\n",
    "\t# 90도 회전 (시계 방향)\n",
    "\tnew_lock = []\n",
    "\tfor x, y in new_need:\n",
    "\t\tnew_lock.append([y, s - 1 - x])\n",
    "\tlockcan.append(new_lock)\n",
    "\n",
    "\t# 270도 회전 (시계 반대 방향)\n",
    "\tnew_lock = []\n",
    "\tfor x, y in new_need:\n",
    "\t\tnew_lock.append([s - 1 - y, x])\n",
    "\tlockcan.append(new_lock)\n",
    "\n",
    "\treturn lockcan\n",
    "\n",
    "\n"
   ]
  },
  {
   "cell_type": "code",
   "execution_count": 11,
   "metadata": {},
   "outputs": [],
   "source": [
    "def solution(key, lock):\n",
    "\tcan = rotate(key,0)\n",
    "\tlockcan = rotate(lock,1)\n",
    "\n",
    "\tfor lo in lockcan:\n",
    "\t\tfor c in can:\n",
    "\t\t\tdoesit = True\n",
    "\t\t\tfor l in lo:\n",
    "\t\t\t\tif l not in c:\n",
    "\t\t\t\t\tdoesit = False\n",
    "\t\t\t\t\tbreak\n",
    "\t\t\tif doesit == True:\n",
    "\t\t\t\treturn True\n",
    "\treturn False\n",
    "\t\t\t\t\t\t\n"
   ]
  },
  {
   "cell_type": "code",
   "execution_count": 12,
   "metadata": {},
   "outputs": [
    {
     "data": {
      "text/plain": [
       "False"
      ]
     },
     "execution_count": 12,
     "metadata": {},
     "output_type": "execute_result"
    }
   ],
   "source": [
    "solution([[0, 0, 0], [1, 0, 0], [0, 1, 1]]\t,[[1, 1, 1], [1, 1, 0], [1, 0, 1]]\t)"
   ]
  },
  {
   "cell_type": "code",
   "execution_count": 18,
   "metadata": {},
   "outputs": [],
   "source": [
    "def rotate(key):\n",
    "\trotations = [key]\n",
    "\tfor _ in range(3):\n",
    "\t\tnew_key = [[0]*len(key) for _ in range(len(key[0]))]\n",
    "\t\tfor i in range(len(key)):\n",
    "\t\t\tfor j in range(len(key[0])):\n",
    "\t\t\t\tnew_key[j][len(key)-1-i] = rotations[-1][i][j]\n",
    "\t\trotations.append(new_key)\n",
    "\treturn rotations\n",
    "\n",
    "def can_unlock(key, lock, start_x, start_y):\n",
    "\tN = len(lock)\n",
    "\tM = len(key)\n",
    "\textended_lock = [[0] * (N + 2 * M) for _ in range(N + 2 * M)]\n",
    "\t\n",
    "\tfor i in range(N):\n",
    "\t\tfor j in range(N):\n",
    "\t\t\textended_lock[i + M][j + M] = lock[i][j]\n",
    "\n",
    "\tfor i in range(M):\n",
    "\t\tfor j in range(M):\n",
    "\t\t\textended_lock[start_x + i][start_y + j] += key[i][j]\n",
    "\n",
    "\tfor i in range(N):\n",
    "\t\tfor j in range(N):\n",
    "\t\t\tif extended_lock[i + M][j + M] != 1:\n",
    "\t\t\t\treturn False\n",
    "\treturn True\n",
    "\n",
    "def solution(key, lock):\n",
    "\trotations = rotate(key) \n",
    "\tN = len(lock)\n",
    "\tM = len(key)\n",
    "\tprint(\"rota\")\n",
    "\tprint(*rotations,sep='\\n')\n",
    "\tfor rot_key in rotations:\n",
    "\t\tfor x in range(N + M):\n",
    "\t\t\tfor y in range(N + M):\n",
    "\t\t\t\tif can_unlock(rot_key, lock, x, y):\n",
    "\t\t\t\t\treturn True\n",
    "\treturn False\n",
    "\n"
   ]
  },
  {
   "cell_type": "code",
   "execution_count": 19,
   "metadata": {},
   "outputs": [
    {
     "name": "stdout",
     "output_type": "stream",
     "text": [
      "rota\n",
      "[[0, 0, 0], [1, 0, 0], [0, 1, 1]]\n",
      "[[0, 1, 0], [1, 0, 0], [1, 0, 0]]\n",
      "[[1, 1, 0], [0, 0, 1], [0, 0, 0]]\n",
      "[[0, 0, 1], [0, 0, 1], [0, 1, 0]]\n",
      "True\n"
     ]
    }
   ],
   "source": [
    "# Example key and lock\n",
    "key = [[0, 0, 0], [1, 0, 0], [0, 1, 1]]\n",
    "lock = [[1, 1, 1], [1, 1, 0], [1, 0, 1]]\n",
    "print(solution(key, lock))  # Output: True or False based on the possibility to unlock\n"
   ]
  }
 ],
 "metadata": {
  "kernelspec": {
   "display_name": "base",
   "language": "python",
   "name": "python3"
  },
  "language_info": {
   "codemirror_mode": {
    "name": "ipython",
    "version": 3
   },
   "file_extension": ".py",
   "mimetype": "text/x-python",
   "name": "python",
   "nbconvert_exporter": "python",
   "pygments_lexer": "ipython3",
   "version": "3.12.3"
  }
 },
 "nbformat": 4,
 "nbformat_minor": 2
}

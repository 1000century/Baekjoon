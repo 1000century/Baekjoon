{
 "cells": [
  {
   "cell_type": "code",
   "execution_count": 16,
   "metadata": {},
   "outputs": [],
   "source": [
    "def solution(files):\n",
    "\tanswer,result = [],[]\n",
    "\tfor file in files:\n",
    "\t\thead,num,tail = '','',''\n",
    "\t\tfor x in file:\n",
    "\t\t\tif x in '0123456789':\n",
    "\t\t\t\tnum = num + x\n",
    "\t\t\telif num == '':\n",
    "\t\t\t\thead = head + x\n",
    "\t\t\telse:\n",
    "\t\t\t\tbreak\n",
    "\t\tlow = head.lower()\n",
    "\t\tresult.append([file,low,int(num)])\n",
    "\tresult.sort(key = lambda x:(x[1],x[2]))\n",
    "\tanswer = [i[0] for i in result]\n",
    "\treturn answer\n"
   ]
  },
  {
   "cell_type": "code",
   "execution_count": 17,
   "metadata": {},
   "outputs": [
    {
     "data": {
      "text/plain": [
       "['img1.png', 'IMG01.GIF', 'img02.png', 'img2.JPG', 'img10.png', 'img12.png']"
      ]
     },
     "execution_count": 17,
     "metadata": {},
     "output_type": "execute_result"
    }
   ],
   "source": [
    "solution( [\"img12.png\", \"img10.png\", \"img02.png\", \"img1.png\", \"IMG01.GIF\", \"img2.JPG\"])"
   ]
  }
 ],
 "metadata": {
  "kernelspec": {
   "display_name": "base",
   "language": "python",
   "name": "python3"
  },
  "language_info": {
   "codemirror_mode": {
    "name": "ipython",
    "version": 3
   },
   "file_extension": ".py",
   "mimetype": "text/x-python",
   "name": "python",
   "nbconvert_exporter": "python",
   "pygments_lexer": "ipython3",
   "version": "3.12.3"
  }
 },
 "nbformat": 4,
 "nbformat_minor": 2
}

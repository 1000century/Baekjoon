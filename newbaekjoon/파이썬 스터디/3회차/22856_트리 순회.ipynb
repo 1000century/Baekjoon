{
 "cells": [
  {
   "cell_type": "code",
   "execution_count": 2,
   "metadata": {},
   "outputs": [],
   "source": [
    "data = \"\"\"\n",
    "5 3\n",
    "0 0 1 0 0\n",
    "0 0 2 0 1\n",
    "0 1 2 0 0\n",
    "0 0 1 0 0\n",
    "0 0 0 0 2\n",
    "\"\"\"\n"
   ]
  },
  {
   "cell_type": "code",
   "execution_count": 3,
   "metadata": {},
   "outputs": [],
   "source": [
    "data = \"\"\"\n",
    "6\n",
    "1 2 3\n",
    "2 4 5\n",
    "3 6 -1\n",
    "4 -1 -1\n",
    "5 -1 -1\n",
    "6 -1 -1\n",
    "\"\"\"\n",
    "data = \"\"\"\n",
    "1\n",
    "1 -1 -1\n",
    "\"\"\"\n",
    "data = \"\"\"\n",
    "7\n",
    "1 2 3\n",
    "2 4 5\n",
    "3 6 7\n",
    "4 -1 -1\n",
    "5 -1 -1\n",
    "6 -1 -1\n",
    "7 -1 -1\"\"\"\n",
    "\n",
    "lines = data.strip().split('\\n')\n"
   ]
  },
  {
   "cell_type": "code",
   "execution_count": 4,
   "metadata": {},
   "outputs": [],
   "source": [
    "N = int(lines[0])\n",
    "parent = {i:-1 for i in range(1,N+1)}\n",
    "rt = {i:-1 for i in range(1,N+1)}\n",
    "lt = {i:-1 for i in range(1,N+1)}\n",
    "chicken = []\n",
    "house = []\n",
    "for i in range(N):\n",
    "\ta,b,c = map(int, lines[i+1].split())\n",
    "\tparent[b] = a if b != -1 else -1\n",
    "\tparent[c] = a if c != -1 else -1\n",
    "\tlt[a], rt[a] = b,c\n"
   ]
  },
  {
   "cell_type": "code",
   "execution_count": 5,
   "metadata": {},
   "outputs": [
    {
     "name": "stdout",
     "output_type": "stream",
     "text": [
      "{1: 3, 2: 5, 3: 7, 4: -1, 5: -1, 6: -1, 7: -1}\n",
      "{1: 2, 2: 4, 3: 6, 4: -1, 5: -1, 6: -1, 7: -1}\n",
      "[4, 2, 5, 1, 6, 3, 7]\n"
     ]
    }
   ],
   "source": [
    "import sys\n",
    "sys.setrecursionlimit(1000000)\n",
    "midd = []\n",
    "print(rt)\n",
    "print(lt)\n",
    "def mid(x):\n",
    "\tif lt[x] != -1:\n",
    "\t\tmid(lt[x])\n",
    "\tmidd.append(x)\n",
    "\tif rt[x] != -1:\n",
    "\t\tmid(rt[x])\n",
    "mid(1)\n",
    "print(midd)\n",
    "end = midd[-1]\n"
   ]
  },
  {
   "cell_type": "code",
   "execution_count": 6,
   "metadata": {},
   "outputs": [
    {
     "name": "stdout",
     "output_type": "stream",
     "text": [
      "10\n"
     ]
    }
   ],
   "source": [
    "st = 1\n",
    "cnt = 0\n",
    "visited = set()\n",
    "visited.add(st)\n",
    "while True:\n",
    "\tif lt[st] != -1 and lt[st] not in visited:\n",
    "\t\tvisited.add(lt[st])\n",
    "\t\tst = lt[st]\n",
    "\telif rt[st] != -1 and rt[st] not in visited:\n",
    "\t\tvisited.add(rt[st])\n",
    "\t\tst = rt[st]\n",
    "\telif st == end:\n",
    "\t\tprint(cnt)\n",
    "\t\tbreak\n",
    "\telse:\n",
    "\t\tst = parent[st]\n",
    "\tcnt = cnt + 1\n"
   ]
  },
  {
   "cell_type": "code",
   "execution_count": 7,
   "metadata": {},
   "outputs": [],
   "source": [
    "import sys\n",
    "sys.setrecursionlimit(100000)\n",
    "input = sys.stdin.readline\n",
    "\n",
    "N = int(input().strip())\n",
    "parent = {i:-1 for i in range(1,N+1)}\n",
    "lt,rt = {i:-1 for i in range(1,N+1)}, {i:-1 for i in range(1,N+1)}\n",
    "for i in range(N):\n",
    "\ta,b,c = map(int, input().split())\n",
    "\tif b != -1: parent[b] = a\n",
    "\tif c != -1:\tparent[c] = a\n",
    "\tlt[a], rt[a] = b,c\n",
    "midd = []\n",
    "\n",
    "def mid(x):\n",
    "\tif lt[x] != -1:\n",
    "\t\tmid(lt[x])\n",
    "\tmidd.append(x)\n",
    "\tif rt[x] != -1:\n",
    "\t\tmid(rt[x])\n",
    "mid(1)\n",
    "end = midd[-1]\n",
    "    \n",
    "st = 1\n",
    "cnt = 0\n",
    "visited = set()\n",
    "visited.add(st)\n",
    "while True:\n",
    "\tif lt[st] != -1 and lt[st] not in visited:\n",
    "\t\tvisited.add(lt[st])\n",
    "\t\tst = lt[st]\n",
    "\telif rt[st] != -1 and rt[st] not in visited:\n",
    "\t\tvisited.add(rt[st])\n",
    "\t\tst = rt[st]\n",
    "\telif st == end:\n",
    "\t\tprint(cnt)\n",
    "\t\tbreak\n",
    "\telse:\n",
    "\t\tst = parent[st]\n",
    "\tcnt = cnt + 1\n"
   ]
  }
 ],
 "metadata": {
  "kernelspec": {
   "display_name": "base",
   "language": "python",
   "name": "python3"
  },
  "language_info": {
   "codemirror_mode": {
    "name": "ipython",
    "version": 3
   },
   "file_extension": ".py",
   "mimetype": "text/x-python",
   "name": "python",
   "nbconvert_exporter": "python",
   "pygments_lexer": "ipython3",
   "version": "3.12.3"
  }
 },
 "nbformat": 4,
 "nbformat_minor": 2
}

{
 "cells": [
  {
   "cell_type": "markdown",
   "metadata": {},
   "source": [
    "https://school.programmers.co.kr/learn/courses/30/lessons/72412\n",
    "순위검색"
   ]
  },
  {
   "cell_type": "code",
   "execution_count": null,
   "metadata": {},
   "outputs": [],
   "source": [
    "def solution(info, query):\n",
    "\tanswer = []\n",
    "\tnew_info = []\n",
    "\tfor i in info:\n",
    "\t\ttemp = i.split(' ')\n",
    "\t\tnew = ''\n",
    "\t\tfor t in range(5):\n",
    "\t\t\tif t != 4:\n",
    "\t\t\t\tnew = new + temp[t][0]\n",
    "\t\t\telse:\n",
    "\t\t\t\tnew_info.append([new,int(temp[t])])\n",
    "\n",
    "\tinfo = new_info[:]\n",
    "\tinfo.sort(key = lambda x:x[1], reverse=True)\n",
    "\n",
    "\tfor q in query:\n",
    "\t\ttemp = q.split(' ')\n",
    "\t\tnew = ''\n",
    "\t\tscore = int(temp[-1])\n",
    "\t\tfor t in range(0,8,2):\n",
    "\t\t\tnew = new +temp[t][0]\n",
    "\t\tcnt = 0\n",
    "\t\tfor i in info:\n",
    "\t\t\tif i[1]<score:\n",
    "\t\t\t\tbreak\n",
    "\t\t\tright = 1\n",
    "\t\t\tfor k in range(4):\n",
    "\t\t\t\tif new[k] != '-' and new[k] != i[0][k]:\n",
    "\t\t\t\t\tright = 0\n",
    "\t\t\t\t\tbreak\n",
    "\t\t\tcnt = cnt + right\n",
    "\t\tanswer.append(cnt)\n",
    "\treturn answer"
   ]
  },
  {
   "cell_type": "code",
   "execution_count": 54,
   "metadata": {},
   "outputs": [],
   "source": [
    "def solution(info, query):\n",
    "\tanswer = []\n",
    "\n",
    "\tlang = {'cpp':[],'java':[],'python':[], 'backend':[], 'frontend':[],'junior':[], 'senior':[],'chicken':[], 'pizza':[]}\n",
    "\ttest = {}\n",
    "\tfor idx,i in enumerate(info):\n",
    "\t\tㄱ,ㄴ,ㄷ,ㄹ,score = i.split(\" \")\n",
    "\t\tlang[ㄱ].append(idx)\n",
    "\t\tlang[ㄴ].append(idx)\n",
    "\t\tlang[ㄷ].append(idx)\n",
    "\t\tlang[ㄹ].append(idx)\n",
    "\t\ttest[idx] = int(score)\n",
    "\n",
    "\tfor q in query:\n",
    "\t\ttemp = 0\n",
    "\t\tㄱ,ㄴ,ㄷ,ㄹ = q.split(' and ')\n",
    "\t\tㄹ, score = ㄹ.split(\" \")\n",
    "\t\tscore = int(score)\n",
    "\t\tval = []\n",
    "\t\tfor x in [ㄱ,ㄴ,ㄷ,ㄹ]:\n",
    "\t\t\tif x != '-':\n",
    "\t\t\t\tval.append(x)\n",
    "\t\t\n",
    "\t\tfor idx in range(len(info)):\n",
    "\t\t\tright = 1\n",
    "\t\t\tif test[idx]<score:\n",
    "\t\t\t\tcontinue\n",
    "\t\t\tfor x in val:\n",
    "\t\t\t\tif (idx not in lang[x]):\n",
    "\t\t\t\t\tright = 0\n",
    "\t\t\t\t\tbreak\n",
    "\t\t\ttemp = temp + right\n",
    "\n",
    "\t\tanswer.append(temp)\n",
    "\n",
    "\treturn answer"
   ]
  },
  {
   "cell_type": "code",
   "execution_count": 50,
   "metadata": {},
   "outputs": [],
   "source": [
    "def solution(info,query):\n",
    "\tdb = {\n",
    "\t\t['cpp','backend','junior','chicken']\n",
    "\n",
    "\n",
    "\t}"
   ]
  },
  {
   "cell_type": "code",
   "execution_count": 74,
   "metadata": {},
   "outputs": [
    {
     "name": "stdout",
     "output_type": "stream",
     "text": [
      "\"cppbackendjuniorchiken\": {},\n",
      "\"cppbackendjuniorpizza\": {},\n",
      "\"cppbackendseniorchiken\": {},\n",
      "\"cppbackendseniorpizza\": {},\n",
      "\"cppfrontendjuniorchiken\": {},\n",
      "\"cppfrontendjuniorpizza\": {},\n",
      "\"cppfrontendseniorchiken\": {},\n",
      "\"cppfrontendseniorpizza\": {},\n",
      "\"javabackendjuniorchiken\": {},\n",
      "\"javabackendjuniorpizza\": {},\n",
      "\"javabackendseniorchiken\": {},\n",
      "\"javabackendseniorpizza\": {},\n",
      "\"javafrontendjuniorchiken\": {},\n",
      "\"javafrontendjuniorpizza\": {},\n",
      "\"javafrontendseniorchiken\": {},\n",
      "\"javafrontendseniorpizza\": {},\n",
      "\"pythonbackendjuniorchiken\": {},\n",
      "\"pythonbackendjuniorpizza\": {},\n",
      "\"pythonbackendseniorchiken\": {},\n",
      "\"pythonbackendseniorpizza\": {},\n",
      "\"pythonfrontendjuniorchiken\": {},\n",
      "\"pythonfrontendjuniorpizza\": {},\n",
      "\"pythonfrontendseniorchiken\": {},\n",
      "\"pythonfrontendseniorpizza\"\n"
     ]
    }
   ],
   "source": [
    "from itertools import product\n",
    "a = [\"cpp\", \"java\",\"python\"]\n",
    "b = [\"backend\",\"frontend\"]\n",
    "c= [\"junior\",\"senior\"]\n",
    "d = [\"chiken\",\"pizza\"]\n",
    "ans = []\n",
    "for p in product(a,b,c,d):\n",
    "\tkey = ''.join(p)\n",
    "\tkey = '\"'+ key+'\"'\n",
    "\tans.append(key)\n",
    "print(*ans,sep=': {},\\n')"
   ]
  },
  {
   "cell_type": "code",
   "execution_count": null,
   "metadata": {},
   "outputs": [],
   "source": [
    "from collections import defaultdict\n",
    "import itertools\n",
    "\n",
    "def solution(info, query):\n",
    "    answer = []\n",
    "\n",
    "    # 데이터를 조합별로 그룹핑\n",
    "    db = defaultdict(list)\n",
    "    for idx, entry in enumerate(info):\n",
    "        lang, job, career, food, score = entry.split()\n",
    "        score = int(score)\n",
    "        keys = [lang, job, career, food]\n",
    "        for count in range(5):  # 모든 조합을 생성\n",
    "            for comb in itertools.combinations(keys, count):\n",
    "                key = ''.join(comb)\n",
    "                db[key].append(score)\n",
    "\n",
    "    # 각 그룹의 점수 리스트를 정렬\n",
    "    for key in db:\n",
    "        db[key].sort()\n",
    "\n",
    "    # 질의 처리\n",
    "    for q in query:\n",
    "        q = q.replace(' and ', ' ')\n",
    "        *conds, score = q.split()\n",
    "        score = int(score)\n",
    "        conds = [c for c in conds if c != '-']  # '-' 제외한 조건만 고려\n",
    "        key = ''.join(conds)\n",
    "        scores = db[key]\n",
    "        \n",
    "        # 이진 검색으로 점수 이상인 데이터 개수 찾기\n",
    "        low, high = 0, len(scores)\n",
    "        while low < high:\n",
    "            mid = (low + high) // 2\n",
    "            if scores[mid] >= score:\n",
    "                high = mid\n",
    "            else:\n",
    "                low = mid + 1\n",
    "        answer.append(len(scores) - low)\n",
    "\n",
    "    return answer\n"
   ]
  },
  {
   "cell_type": "code",
   "execution_count": 55,
   "metadata": {},
   "outputs": [
    {
     "data": {
      "text/plain": [
       "[1, 1, 1, 1, 2, 4]"
      ]
     },
     "execution_count": 55,
     "metadata": {},
     "output_type": "execute_result"
    }
   ],
   "source": [
    "info = [\"java backend junior pizza 150\",\"python frontend senior chicken 210\",\"python frontend senior chicken 150\",\"cpp backend senior pizza 260\",\"java backend junior chicken 80\",\"python backend senior chicken 50\"]\n",
    "query = [\"java and backend and junior and pizza 100\",\"python and frontend and senior and chicken 200\",\"cpp and - and senior and pizza 250\",\"- and backend and senior and - 150\",\"- and - and - and chicken 100\",\"- and - and - and - 150\"]\n",
    "solution(info,query)"
   ]
  }
 ],
 "metadata": {
  "kernelspec": {
   "display_name": "base",
   "language": "python",
   "name": "python3"
  },
  "language_info": {
   "codemirror_mode": {
    "name": "ipython",
    "version": 3
   },
   "file_extension": ".py",
   "mimetype": "text/x-python",
   "name": "python",
   "nbconvert_exporter": "python",
   "pygments_lexer": "ipython3",
   "version": "3.12.3"
  }
 },
 "nbformat": 4,
 "nbformat_minor": 2
}

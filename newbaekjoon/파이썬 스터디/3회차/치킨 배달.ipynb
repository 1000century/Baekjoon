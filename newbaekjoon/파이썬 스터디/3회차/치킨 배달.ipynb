{
 "cells": [
  {
   "cell_type": "code",
   "execution_count": 2,
   "metadata": {},
   "outputs": [],
   "source": [
    "data = \"\"\"\n",
    "5 3\n",
    "0 0 1 0 0\n",
    "0 0 2 0 1\n",
    "0 1 2 0 0\n",
    "0 0 1 0 0\n",
    "0 0 0 0 2\n",
    "\"\"\"\n"
   ]
  },
  {
   "cell_type": "code",
   "execution_count": null,
   "metadata": {},
   "outputs": [],
   "source": [
    "import sys\n",
    "data = sys.stdin.read\n",
    "lines = data.strip().split('\\n')\n"
   ]
  },
  {
   "cell_type": "code",
   "execution_count": 26,
   "metadata": {},
   "outputs": [
    {
     "name": "stdout",
     "output_type": "stream",
     "text": [
      "[(0, 2), (1, 4), (2, 1), (3, 2)]\n",
      "[(1, 2), (2, 2), (4, 4)]\n"
     ]
    }
   ],
   "source": [
    "N, M = map(int, lines[0].split())\n",
    "chicken = []\n",
    "house = []\n",
    "for i in range(N):\n",
    "\ttemp = list(map(int, lines[i+1].split()))\n",
    "\tfor j in range(len(temp)):\n",
    "\t\tif temp[j] == 2:\n",
    "\t\t\tchicken.append((i,j))\n",
    "\t\telif temp[j] == 1:\n",
    "\t\t\thouse.append((i,j))\n",
    "print(house)\n",
    "print(chicken)"
   ]
  },
  {
   "cell_type": "code",
   "execution_count": 28,
   "metadata": {},
   "outputs": [
    {
     "name": "stdout",
     "output_type": "stream",
     "text": [
      "5\n"
     ]
    }
   ],
   "source": [
    "def backtracking(chicken,house,M):\n",
    "\tanswer = int(1e9)\n",
    "\n",
    "\tdef check(arr,house):\n",
    "\t\tans =0 \n",
    "\t\tfor hx,hy in house:\n",
    "\t\t\tdist = int(1e9)\n",
    "\t\t\tfor cx,cy in arr:\n",
    "\t\t\t\tdist = min(dist,abs(cx-hx)+abs(cy-hy))\n",
    "\t\t\tans = ans + dist\n",
    "\t\treturn ans\n",
    "\n",
    "\tdef generate(arr,i):\n",
    "\t\tnonlocal answer\n",
    "\t\tif len(arr) == M:\n",
    "\t\t\tcurrent = check(arr,house)\n",
    "\t\t\tanswer = min(answer,current)\n",
    "\t\t\treturn answer\n",
    "\t\tfor j in range(i,len(chicken)):\n",
    "\t\t\tgenerate(arr+[chicken[j]],j+1)\n",
    "\t\n",
    "\tgenerate([],0)\n",
    "\n",
    "\treturn answer\n",
    "\n",
    "print(backtracking(chicken,house,M))\n",
    "\n",
    "\n"
   ]
  },
  {
   "cell_type": "code",
   "execution_count": null,
   "metadata": {},
   "outputs": [],
   "source": [
    "import sys\n",
    "input = sys.stdin.readline\n",
    "N, M = map(int, input().split())\n",
    "chicken = []\n",
    "house = []\n",
    "for i in range(N):\n",
    "\ttemp = list(map(int, input().split()))\n",
    "\tfor j in range(len(temp)):\n",
    "\t\tif temp[j] == 2:\n",
    "\t\t\tchicken.append((i,j))\n",
    "\t\telif temp[j] == 1:\n",
    "\t\t\thouse.append((i,j))\n",
    "\n",
    "def backtracking(chicken,house,M):\n",
    "\tanswer = int(1e9)\n",
    "\n",
    "\tdef check(arr,house):\n",
    "\t\tans =0 \n",
    "\t\tfor hx,hy in house:\n",
    "\t\t\tdist = int(1e9)\n",
    "\t\t\tfor cx,cy in arr:\n",
    "\t\t\t\tdist = min(dist,abs(cx-hx)+abs(cy-hy))\n",
    "\t\t\tans = ans + dist\n",
    "\t\treturn ans\n",
    "\n",
    "\tdef generate(arr,i):\n",
    "\t\tnonlocal answer\n",
    "\t\tif len(arr) == M:\n",
    "\t\t\tcurrent = check(arr,house)\n",
    "\t\t\tanswer = min(answer,current)\n",
    "\t\t\treturn answer\n",
    "\t\tfor j in range(i,len(chicken)):\n",
    "\t\t\tgenerate(arr+[chicken[j]],j+1)\n",
    "\t\n",
    "\tgenerate([],0)\n",
    "\n",
    "\treturn answer\n",
    "\n",
    "print(backtracking(chicken,house,M))\n",
    "\n",
    "\n"
   ]
  }
 ],
 "metadata": {
  "kernelspec": {
   "display_name": "base",
   "language": "python",
   "name": "python3"
  },
  "language_info": {
   "codemirror_mode": {
    "name": "ipython",
    "version": 3
   },
   "file_extension": ".py",
   "mimetype": "text/x-python",
   "name": "python",
   "nbconvert_exporter": "python",
   "pygments_lexer": "ipython3",
   "version": "3.12.3"
  }
 },
 "nbformat": 4,
 "nbformat_minor": 2
}
